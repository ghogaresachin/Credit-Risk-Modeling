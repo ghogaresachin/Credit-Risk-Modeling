{
 "cells": [
  {
   "cell_type": "markdown",
   "id": "43e10b55",
   "metadata": {},
   "source": [
    "## Import necessary libraries"
   ]
  },
  {
   "cell_type": "code",
   "execution_count": 1,
   "id": "31ded03b",
   "metadata": {},
   "outputs": [],
   "source": [
    "import numpy as np\n",
    "import pandas as pd\n",
    "import matplotlib.pyplot as plt\n",
    "from sklearn.metrics import r2_score\n",
    "from scipy.stats import chi2_contingency\n",
    "from statsmodels.stats.outliers_influence import variance_inflation_factor\n",
    "from sklearn.model_selection import train_test_split\n",
    "from sklearn.ensemble import RandomForestClassifier\n",
    "import xgboost as xgb\n",
    "from sklearn.tree import DecisionTreeClassifier\n",
    "from sklearn.preprocessing import LabelEncoder\n",
    "from sklearn.metrics import accuracy_score, classification_report, precision_recall_fscore_support\n",
    "import warnings\n",
    "import os\n"
   ]
  },
  {
   "cell_type": "markdown",
   "id": "2e2383e9",
   "metadata": {},
   "source": [
    "## Load data"
   ]
  },
  {
   "cell_type": "code",
   "execution_count": 2,
   "id": "45ddbe1e",
   "metadata": {},
   "outputs": [],
   "source": [
    "a1 = pd.read_excel(\"case_study1.xlsx\")\n",
    "a2 = pd.read_excel(\"case_study2.xlsx\")"
   ]
  },
  {
   "cell_type": "code",
   "execution_count": 3,
   "id": "537f10dc",
   "metadata": {},
   "outputs": [],
   "source": [
    "df1 = a1.copy()\n",
    "df2 = a2.copy()"
   ]
  },
  {
   "cell_type": "markdown",
   "id": "c6496bbe",
   "metadata": {},
   "source": [
    "## Data Cleaning"
   ]
  },
  {
   "cell_type": "code",
   "execution_count": 4,
   "id": "6cd17675",
   "metadata": {},
   "outputs": [
    {
     "data": {
      "text/html": [
       "<div>\n",
       "<style scoped>\n",
       "    .dataframe tbody tr th:only-of-type {\n",
       "        vertical-align: middle;\n",
       "    }\n",
       "\n",
       "    .dataframe tbody tr th {\n",
       "        vertical-align: top;\n",
       "    }\n",
       "\n",
       "    .dataframe thead th {\n",
       "        text-align: right;\n",
       "    }\n",
       "</style>\n",
       "<table border=\"1\" class=\"dataframe\">\n",
       "  <thead>\n",
       "    <tr style=\"text-align: right;\">\n",
       "      <th></th>\n",
       "      <th>PROSPECTID</th>\n",
       "      <th>Total_TL</th>\n",
       "      <th>Tot_Closed_TL</th>\n",
       "      <th>Tot_Active_TL</th>\n",
       "      <th>Total_TL_opened_L6M</th>\n",
       "      <th>Tot_TL_closed_L6M</th>\n",
       "      <th>pct_tl_open_L6M</th>\n",
       "      <th>pct_tl_closed_L6M</th>\n",
       "      <th>pct_active_tl</th>\n",
       "      <th>pct_closed_tl</th>\n",
       "      <th>...</th>\n",
       "      <th>CC_TL</th>\n",
       "      <th>Consumer_TL</th>\n",
       "      <th>Gold_TL</th>\n",
       "      <th>Home_TL</th>\n",
       "      <th>PL_TL</th>\n",
       "      <th>Secured_TL</th>\n",
       "      <th>Unsecured_TL</th>\n",
       "      <th>Other_TL</th>\n",
       "      <th>Age_Oldest_TL</th>\n",
       "      <th>Age_Newest_TL</th>\n",
       "    </tr>\n",
       "  </thead>\n",
       "  <tbody>\n",
       "    <tr>\n",
       "      <th>count</th>\n",
       "      <td>51336.000000</td>\n",
       "      <td>51336.000000</td>\n",
       "      <td>51336.000000</td>\n",
       "      <td>51336.000000</td>\n",
       "      <td>51336.000000</td>\n",
       "      <td>51336.000000</td>\n",
       "      <td>51336.000000</td>\n",
       "      <td>51336.000000</td>\n",
       "      <td>51336.000000</td>\n",
       "      <td>51336.000000</td>\n",
       "      <td>...</td>\n",
       "      <td>51336.000000</td>\n",
       "      <td>51336.000000</td>\n",
       "      <td>51336.000000</td>\n",
       "      <td>51336.000000</td>\n",
       "      <td>51336.000000</td>\n",
       "      <td>51336.000000</td>\n",
       "      <td>51336.000000</td>\n",
       "      <td>51336.000000</td>\n",
       "      <td>51336.000000</td>\n",
       "      <td>51336.000000</td>\n",
       "    </tr>\n",
       "    <tr>\n",
       "      <th>mean</th>\n",
       "      <td>25668.500000</td>\n",
       "      <td>4.858598</td>\n",
       "      <td>2.770415</td>\n",
       "      <td>2.088184</td>\n",
       "      <td>0.736754</td>\n",
       "      <td>0.428919</td>\n",
       "      <td>0.184574</td>\n",
       "      <td>0.089095</td>\n",
       "      <td>0.577542</td>\n",
       "      <td>0.422458</td>\n",
       "      <td>...</td>\n",
       "      <td>0.124981</td>\n",
       "      <td>1.136084</td>\n",
       "      <td>1.561847</td>\n",
       "      <td>0.070146</td>\n",
       "      <td>0.282511</td>\n",
       "      <td>2.844904</td>\n",
       "      <td>2.013694</td>\n",
       "      <td>1.089762</td>\n",
       "      <td>-32.575639</td>\n",
       "      <td>-62.149525</td>\n",
       "    </tr>\n",
       "    <tr>\n",
       "      <th>std</th>\n",
       "      <td>14819.571046</td>\n",
       "      <td>7.177116</td>\n",
       "      <td>5.941680</td>\n",
       "      <td>2.290774</td>\n",
       "      <td>1.296717</td>\n",
       "      <td>0.989972</td>\n",
       "      <td>0.297414</td>\n",
       "      <td>0.205635</td>\n",
       "      <td>0.379867</td>\n",
       "      <td>0.379867</td>\n",
       "      <td>...</td>\n",
       "      <td>0.505201</td>\n",
       "      <td>2.227997</td>\n",
       "      <td>5.376434</td>\n",
       "      <td>0.340861</td>\n",
       "      <td>0.858168</td>\n",
       "      <td>6.187177</td>\n",
       "      <td>3.198322</td>\n",
       "      <td>2.417496</td>\n",
       "      <td>2791.869609</td>\n",
       "      <td>2790.818622</td>\n",
       "    </tr>\n",
       "    <tr>\n",
       "      <th>min</th>\n",
       "      <td>1.000000</td>\n",
       "      <td>1.000000</td>\n",
       "      <td>0.000000</td>\n",
       "      <td>0.000000</td>\n",
       "      <td>0.000000</td>\n",
       "      <td>0.000000</td>\n",
       "      <td>0.000000</td>\n",
       "      <td>0.000000</td>\n",
       "      <td>0.000000</td>\n",
       "      <td>0.000000</td>\n",
       "      <td>...</td>\n",
       "      <td>0.000000</td>\n",
       "      <td>0.000000</td>\n",
       "      <td>0.000000</td>\n",
       "      <td>0.000000</td>\n",
       "      <td>0.000000</td>\n",
       "      <td>0.000000</td>\n",
       "      <td>0.000000</td>\n",
       "      <td>0.000000</td>\n",
       "      <td>-99999.000000</td>\n",
       "      <td>-99999.000000</td>\n",
       "    </tr>\n",
       "    <tr>\n",
       "      <th>25%</th>\n",
       "      <td>12834.750000</td>\n",
       "      <td>1.000000</td>\n",
       "      <td>0.000000</td>\n",
       "      <td>1.000000</td>\n",
       "      <td>0.000000</td>\n",
       "      <td>0.000000</td>\n",
       "      <td>0.000000</td>\n",
       "      <td>0.000000</td>\n",
       "      <td>0.250000</td>\n",
       "      <td>0.000000</td>\n",
       "      <td>...</td>\n",
       "      <td>0.000000</td>\n",
       "      <td>0.000000</td>\n",
       "      <td>0.000000</td>\n",
       "      <td>0.000000</td>\n",
       "      <td>0.000000</td>\n",
       "      <td>0.000000</td>\n",
       "      <td>0.000000</td>\n",
       "      <td>0.000000</td>\n",
       "      <td>14.000000</td>\n",
       "      <td>4.000000</td>\n",
       "    </tr>\n",
       "    <tr>\n",
       "      <th>50%</th>\n",
       "      <td>25668.500000</td>\n",
       "      <td>2.000000</td>\n",
       "      <td>1.000000</td>\n",
       "      <td>1.000000</td>\n",
       "      <td>0.000000</td>\n",
       "      <td>0.000000</td>\n",
       "      <td>0.000000</td>\n",
       "      <td>0.000000</td>\n",
       "      <td>0.556000</td>\n",
       "      <td>0.444000</td>\n",
       "      <td>...</td>\n",
       "      <td>0.000000</td>\n",
       "      <td>0.000000</td>\n",
       "      <td>0.000000</td>\n",
       "      <td>0.000000</td>\n",
       "      <td>0.000000</td>\n",
       "      <td>1.000000</td>\n",
       "      <td>1.000000</td>\n",
       "      <td>0.000000</td>\n",
       "      <td>33.000000</td>\n",
       "      <td>8.000000</td>\n",
       "    </tr>\n",
       "    <tr>\n",
       "      <th>75%</th>\n",
       "      <td>38502.250000</td>\n",
       "      <td>5.000000</td>\n",
       "      <td>3.000000</td>\n",
       "      <td>3.000000</td>\n",
       "      <td>1.000000</td>\n",
       "      <td>1.000000</td>\n",
       "      <td>0.308000</td>\n",
       "      <td>0.053000</td>\n",
       "      <td>1.000000</td>\n",
       "      <td>0.750000</td>\n",
       "      <td>...</td>\n",
       "      <td>0.000000</td>\n",
       "      <td>1.000000</td>\n",
       "      <td>1.000000</td>\n",
       "      <td>0.000000</td>\n",
       "      <td>0.000000</td>\n",
       "      <td>3.000000</td>\n",
       "      <td>2.000000</td>\n",
       "      <td>1.000000</td>\n",
       "      <td>64.000000</td>\n",
       "      <td>17.000000</td>\n",
       "    </tr>\n",
       "    <tr>\n",
       "      <th>max</th>\n",
       "      <td>51336.000000</td>\n",
       "      <td>235.000000</td>\n",
       "      <td>216.000000</td>\n",
       "      <td>47.000000</td>\n",
       "      <td>27.000000</td>\n",
       "      <td>19.000000</td>\n",
       "      <td>1.000000</td>\n",
       "      <td>1.000000</td>\n",
       "      <td>1.000000</td>\n",
       "      <td>1.000000</td>\n",
       "      <td>...</td>\n",
       "      <td>27.000000</td>\n",
       "      <td>41.000000</td>\n",
       "      <td>235.000000</td>\n",
       "      <td>10.000000</td>\n",
       "      <td>29.000000</td>\n",
       "      <td>235.000000</td>\n",
       "      <td>55.000000</td>\n",
       "      <td>80.000000</td>\n",
       "      <td>392.000000</td>\n",
       "      <td>392.000000</td>\n",
       "    </tr>\n",
       "  </tbody>\n",
       "</table>\n",
       "<p>8 rows × 26 columns</p>\n",
       "</div>"
      ],
      "text/plain": [
       "         PROSPECTID      Total_TL  Tot_Closed_TL  Tot_Active_TL  \\\n",
       "count  51336.000000  51336.000000   51336.000000   51336.000000   \n",
       "mean   25668.500000      4.858598       2.770415       2.088184   \n",
       "std    14819.571046      7.177116       5.941680       2.290774   \n",
       "min        1.000000      1.000000       0.000000       0.000000   \n",
       "25%    12834.750000      1.000000       0.000000       1.000000   \n",
       "50%    25668.500000      2.000000       1.000000       1.000000   \n",
       "75%    38502.250000      5.000000       3.000000       3.000000   \n",
       "max    51336.000000    235.000000     216.000000      47.000000   \n",
       "\n",
       "       Total_TL_opened_L6M  Tot_TL_closed_L6M  pct_tl_open_L6M  \\\n",
       "count         51336.000000       51336.000000     51336.000000   \n",
       "mean              0.736754           0.428919         0.184574   \n",
       "std               1.296717           0.989972         0.297414   \n",
       "min               0.000000           0.000000         0.000000   \n",
       "25%               0.000000           0.000000         0.000000   \n",
       "50%               0.000000           0.000000         0.000000   \n",
       "75%               1.000000           1.000000         0.308000   \n",
       "max              27.000000          19.000000         1.000000   \n",
       "\n",
       "       pct_tl_closed_L6M  pct_active_tl  pct_closed_tl  ...         CC_TL  \\\n",
       "count       51336.000000   51336.000000   51336.000000  ...  51336.000000   \n",
       "mean            0.089095       0.577542       0.422458  ...      0.124981   \n",
       "std             0.205635       0.379867       0.379867  ...      0.505201   \n",
       "min             0.000000       0.000000       0.000000  ...      0.000000   \n",
       "25%             0.000000       0.250000       0.000000  ...      0.000000   \n",
       "50%             0.000000       0.556000       0.444000  ...      0.000000   \n",
       "75%             0.053000       1.000000       0.750000  ...      0.000000   \n",
       "max             1.000000       1.000000       1.000000  ...     27.000000   \n",
       "\n",
       "        Consumer_TL       Gold_TL       Home_TL         PL_TL    Secured_TL  \\\n",
       "count  51336.000000  51336.000000  51336.000000  51336.000000  51336.000000   \n",
       "mean       1.136084      1.561847      0.070146      0.282511      2.844904   \n",
       "std        2.227997      5.376434      0.340861      0.858168      6.187177   \n",
       "min        0.000000      0.000000      0.000000      0.000000      0.000000   \n",
       "25%        0.000000      0.000000      0.000000      0.000000      0.000000   \n",
       "50%        0.000000      0.000000      0.000000      0.000000      1.000000   \n",
       "75%        1.000000      1.000000      0.000000      0.000000      3.000000   \n",
       "max       41.000000    235.000000     10.000000     29.000000    235.000000   \n",
       "\n",
       "       Unsecured_TL      Other_TL  Age_Oldest_TL  Age_Newest_TL  \n",
       "count  51336.000000  51336.000000   51336.000000   51336.000000  \n",
       "mean       2.013694      1.089762     -32.575639     -62.149525  \n",
       "std        3.198322      2.417496    2791.869609    2790.818622  \n",
       "min        0.000000      0.000000  -99999.000000  -99999.000000  \n",
       "25%        0.000000      0.000000      14.000000       4.000000  \n",
       "50%        1.000000      0.000000      33.000000       8.000000  \n",
       "75%        2.000000      1.000000      64.000000      17.000000  \n",
       "max       55.000000     80.000000     392.000000     392.000000  \n",
       "\n",
       "[8 rows x 26 columns]"
      ]
     },
     "execution_count": 4,
     "metadata": {},
     "output_type": "execute_result"
    }
   ],
   "source": [
    "df1.describe()"
   ]
  },
  {
   "cell_type": "markdown",
   "id": "33ea24ff",
   "metadata": {},
   "source": [
    "As we can see there is a value \"-99999\" in \"Age_Oldest_TL\" and \"Age_Newest_TL\" Column. These values are missing values, so we will drop these values."
   ]
  },
  {
   "cell_type": "code",
   "execution_count": 5,
   "id": "036561d0",
   "metadata": {},
   "outputs": [],
   "source": [
    "# Remove nulls\n",
    "df1 = df1.loc[df1['Age_Oldest_TL'] != -99999]"
   ]
  },
  {
   "cell_type": "code",
   "execution_count": 6,
   "id": "c2045fa0",
   "metadata": {},
   "outputs": [
    {
     "data": {
      "text/html": [
       "<div>\n",
       "<style scoped>\n",
       "    .dataframe tbody tr th:only-of-type {\n",
       "        vertical-align: middle;\n",
       "    }\n",
       "\n",
       "    .dataframe tbody tr th {\n",
       "        vertical-align: top;\n",
       "    }\n",
       "\n",
       "    .dataframe thead th {\n",
       "        text-align: right;\n",
       "    }\n",
       "</style>\n",
       "<table border=\"1\" class=\"dataframe\">\n",
       "  <thead>\n",
       "    <tr style=\"text-align: right;\">\n",
       "      <th></th>\n",
       "      <th>PROSPECTID</th>\n",
       "      <th>time_since_recent_payment</th>\n",
       "      <th>time_since_first_deliquency</th>\n",
       "      <th>time_since_recent_deliquency</th>\n",
       "      <th>num_times_delinquent</th>\n",
       "      <th>max_delinquency_level</th>\n",
       "      <th>max_recent_level_of_deliq</th>\n",
       "      <th>num_deliq_6mts</th>\n",
       "      <th>num_deliq_12mts</th>\n",
       "      <th>num_deliq_6_12mts</th>\n",
       "      <th>...</th>\n",
       "      <th>PL_utilization</th>\n",
       "      <th>PL_Flag</th>\n",
       "      <th>pct_PL_enq_L6m_of_L12m</th>\n",
       "      <th>pct_CC_enq_L6m_of_L12m</th>\n",
       "      <th>pct_PL_enq_L6m_of_ever</th>\n",
       "      <th>pct_CC_enq_L6m_of_ever</th>\n",
       "      <th>max_unsec_exposure_inPct</th>\n",
       "      <th>HL_Flag</th>\n",
       "      <th>GL_Flag</th>\n",
       "      <th>Credit_Score</th>\n",
       "    </tr>\n",
       "  </thead>\n",
       "  <tbody>\n",
       "    <tr>\n",
       "      <th>count</th>\n",
       "      <td>51336.000000</td>\n",
       "      <td>51336.000000</td>\n",
       "      <td>51336.000000</td>\n",
       "      <td>51336.000000</td>\n",
       "      <td>51336.000000</td>\n",
       "      <td>51336.000000</td>\n",
       "      <td>51336.000000</td>\n",
       "      <td>51336.000000</td>\n",
       "      <td>51336.000000</td>\n",
       "      <td>51336.000000</td>\n",
       "      <td>...</td>\n",
       "      <td>51336.000000</td>\n",
       "      <td>51336.000000</td>\n",
       "      <td>51336.000000</td>\n",
       "      <td>51336.000000</td>\n",
       "      <td>51336.000000</td>\n",
       "      <td>51336.000000</td>\n",
       "      <td>51336.000000</td>\n",
       "      <td>51336.000000</td>\n",
       "      <td>51336.000000</td>\n",
       "      <td>51336.000000</td>\n",
       "    </tr>\n",
       "    <tr>\n",
       "      <th>mean</th>\n",
       "      <td>25668.500000</td>\n",
       "      <td>-8129.961314</td>\n",
       "      <td>-70020.091320</td>\n",
       "      <td>-70022.375838</td>\n",
       "      <td>1.573749</td>\n",
       "      <td>-70003.987085</td>\n",
       "      <td>13.521953</td>\n",
       "      <td>0.184977</td>\n",
       "      <td>0.480053</td>\n",
       "      <td>0.295076</td>\n",
       "      <td>...</td>\n",
       "      <td>-86556.225194</td>\n",
       "      <td>0.167874</td>\n",
       "      <td>0.190414</td>\n",
       "      <td>0.065182</td>\n",
       "      <td>0.170492</td>\n",
       "      <td>0.056302</td>\n",
       "      <td>-45127.943635</td>\n",
       "      <td>0.271116</td>\n",
       "      <td>0.052887</td>\n",
       "      <td>679.859222</td>\n",
       "    </tr>\n",
       "    <tr>\n",
       "      <th>std</th>\n",
       "      <td>14819.571046</td>\n",
       "      <td>27749.328514</td>\n",
       "      <td>45823.312757</td>\n",
       "      <td>45819.820741</td>\n",
       "      <td>4.165012</td>\n",
       "      <td>45847.976100</td>\n",
       "      <td>53.336976</td>\n",
       "      <td>0.710240</td>\n",
       "      <td>1.522210</td>\n",
       "      <td>1.027471</td>\n",
       "      <td>...</td>\n",
       "      <td>34111.414750</td>\n",
       "      <td>0.373758</td>\n",
       "      <td>0.376218</td>\n",
       "      <td>0.235706</td>\n",
       "      <td>0.350209</td>\n",
       "      <td>0.213506</td>\n",
       "      <td>49795.784556</td>\n",
       "      <td>0.444540</td>\n",
       "      <td>0.223810</td>\n",
       "      <td>20.502764</td>\n",
       "    </tr>\n",
       "    <tr>\n",
       "      <th>min</th>\n",
       "      <td>1.000000</td>\n",
       "      <td>-99999.000000</td>\n",
       "      <td>-99999.000000</td>\n",
       "      <td>-99999.000000</td>\n",
       "      <td>0.000000</td>\n",
       "      <td>-99999.000000</td>\n",
       "      <td>0.000000</td>\n",
       "      <td>0.000000</td>\n",
       "      <td>0.000000</td>\n",
       "      <td>0.000000</td>\n",
       "      <td>...</td>\n",
       "      <td>-99999.000000</td>\n",
       "      <td>0.000000</td>\n",
       "      <td>0.000000</td>\n",
       "      <td>0.000000</td>\n",
       "      <td>0.000000</td>\n",
       "      <td>0.000000</td>\n",
       "      <td>-99999.000000</td>\n",
       "      <td>0.000000</td>\n",
       "      <td>0.000000</td>\n",
       "      <td>469.000000</td>\n",
       "    </tr>\n",
       "    <tr>\n",
       "      <th>25%</th>\n",
       "      <td>12834.750000</td>\n",
       "      <td>46.000000</td>\n",
       "      <td>-99999.000000</td>\n",
       "      <td>-99999.000000</td>\n",
       "      <td>0.000000</td>\n",
       "      <td>-99999.000000</td>\n",
       "      <td>0.000000</td>\n",
       "      <td>0.000000</td>\n",
       "      <td>0.000000</td>\n",
       "      <td>0.000000</td>\n",
       "      <td>...</td>\n",
       "      <td>-99999.000000</td>\n",
       "      <td>0.000000</td>\n",
       "      <td>0.000000</td>\n",
       "      <td>0.000000</td>\n",
       "      <td>0.000000</td>\n",
       "      <td>0.000000</td>\n",
       "      <td>-99999.000000</td>\n",
       "      <td>0.000000</td>\n",
       "      <td>0.000000</td>\n",
       "      <td>669.000000</td>\n",
       "    </tr>\n",
       "    <tr>\n",
       "      <th>50%</th>\n",
       "      <td>25668.500000</td>\n",
       "      <td>70.000000</td>\n",
       "      <td>-99999.000000</td>\n",
       "      <td>-99999.000000</td>\n",
       "      <td>0.000000</td>\n",
       "      <td>-99999.000000</td>\n",
       "      <td>0.000000</td>\n",
       "      <td>0.000000</td>\n",
       "      <td>0.000000</td>\n",
       "      <td>0.000000</td>\n",
       "      <td>...</td>\n",
       "      <td>-99999.000000</td>\n",
       "      <td>0.000000</td>\n",
       "      <td>0.000000</td>\n",
       "      <td>0.000000</td>\n",
       "      <td>0.000000</td>\n",
       "      <td>0.000000</td>\n",
       "      <td>0.333000</td>\n",
       "      <td>0.000000</td>\n",
       "      <td>0.000000</td>\n",
       "      <td>680.000000</td>\n",
       "    </tr>\n",
       "    <tr>\n",
       "      <th>75%</th>\n",
       "      <td>38502.250000</td>\n",
       "      <td>161.000000</td>\n",
       "      <td>8.000000</td>\n",
       "      <td>3.000000</td>\n",
       "      <td>1.000000</td>\n",
       "      <td>15.000000</td>\n",
       "      <td>10.000000</td>\n",
       "      <td>0.000000</td>\n",
       "      <td>0.000000</td>\n",
       "      <td>0.000000</td>\n",
       "      <td>...</td>\n",
       "      <td>-99999.000000</td>\n",
       "      <td>0.000000</td>\n",
       "      <td>0.000000</td>\n",
       "      <td>0.000000</td>\n",
       "      <td>0.000000</td>\n",
       "      <td>0.000000</td>\n",
       "      <td>2.164250</td>\n",
       "      <td>1.000000</td>\n",
       "      <td>0.000000</td>\n",
       "      <td>691.000000</td>\n",
       "    </tr>\n",
       "    <tr>\n",
       "      <th>max</th>\n",
       "      <td>51336.000000</td>\n",
       "      <td>6065.000000</td>\n",
       "      <td>35.000000</td>\n",
       "      <td>35.000000</td>\n",
       "      <td>74.000000</td>\n",
       "      <td>900.000000</td>\n",
       "      <td>900.000000</td>\n",
       "      <td>12.000000</td>\n",
       "      <td>28.000000</td>\n",
       "      <td>20.000000</td>\n",
       "      <td>...</td>\n",
       "      <td>1.708000</td>\n",
       "      <td>1.000000</td>\n",
       "      <td>1.000000</td>\n",
       "      <td>1.000000</td>\n",
       "      <td>1.000000</td>\n",
       "      <td>1.000000</td>\n",
       "      <td>173800.000000</td>\n",
       "      <td>1.000000</td>\n",
       "      <td>1.000000</td>\n",
       "      <td>811.000000</td>\n",
       "    </tr>\n",
       "  </tbody>\n",
       "</table>\n",
       "<p>8 rows × 56 columns</p>\n",
       "</div>"
      ],
      "text/plain": [
       "         PROSPECTID  time_since_recent_payment  time_since_first_deliquency  \\\n",
       "count  51336.000000               51336.000000                 51336.000000   \n",
       "mean   25668.500000               -8129.961314                -70020.091320   \n",
       "std    14819.571046               27749.328514                 45823.312757   \n",
       "min        1.000000              -99999.000000                -99999.000000   \n",
       "25%    12834.750000                  46.000000                -99999.000000   \n",
       "50%    25668.500000                  70.000000                -99999.000000   \n",
       "75%    38502.250000                 161.000000                     8.000000   \n",
       "max    51336.000000                6065.000000                    35.000000   \n",
       "\n",
       "       time_since_recent_deliquency  num_times_delinquent  \\\n",
       "count                  51336.000000          51336.000000   \n",
       "mean                  -70022.375838              1.573749   \n",
       "std                    45819.820741              4.165012   \n",
       "min                   -99999.000000              0.000000   \n",
       "25%                   -99999.000000              0.000000   \n",
       "50%                   -99999.000000              0.000000   \n",
       "75%                        3.000000              1.000000   \n",
       "max                       35.000000             74.000000   \n",
       "\n",
       "       max_delinquency_level  max_recent_level_of_deliq  num_deliq_6mts  \\\n",
       "count           51336.000000               51336.000000    51336.000000   \n",
       "mean           -70003.987085                  13.521953        0.184977   \n",
       "std             45847.976100                  53.336976        0.710240   \n",
       "min            -99999.000000                   0.000000        0.000000   \n",
       "25%            -99999.000000                   0.000000        0.000000   \n",
       "50%            -99999.000000                   0.000000        0.000000   \n",
       "75%                15.000000                  10.000000        0.000000   \n",
       "max               900.000000                 900.000000       12.000000   \n",
       "\n",
       "       num_deliq_12mts  num_deliq_6_12mts  ...  PL_utilization       PL_Flag  \\\n",
       "count     51336.000000       51336.000000  ...    51336.000000  51336.000000   \n",
       "mean          0.480053           0.295076  ...   -86556.225194      0.167874   \n",
       "std           1.522210           1.027471  ...    34111.414750      0.373758   \n",
       "min           0.000000           0.000000  ...   -99999.000000      0.000000   \n",
       "25%           0.000000           0.000000  ...   -99999.000000      0.000000   \n",
       "50%           0.000000           0.000000  ...   -99999.000000      0.000000   \n",
       "75%           0.000000           0.000000  ...   -99999.000000      0.000000   \n",
       "max          28.000000          20.000000  ...        1.708000      1.000000   \n",
       "\n",
       "       pct_PL_enq_L6m_of_L12m  pct_CC_enq_L6m_of_L12m  pct_PL_enq_L6m_of_ever  \\\n",
       "count            51336.000000            51336.000000            51336.000000   \n",
       "mean                 0.190414                0.065182                0.170492   \n",
       "std                  0.376218                0.235706                0.350209   \n",
       "min                  0.000000                0.000000                0.000000   \n",
       "25%                  0.000000                0.000000                0.000000   \n",
       "50%                  0.000000                0.000000                0.000000   \n",
       "75%                  0.000000                0.000000                0.000000   \n",
       "max                  1.000000                1.000000                1.000000   \n",
       "\n",
       "       pct_CC_enq_L6m_of_ever  max_unsec_exposure_inPct       HL_Flag  \\\n",
       "count            51336.000000              51336.000000  51336.000000   \n",
       "mean                 0.056302             -45127.943635      0.271116   \n",
       "std                  0.213506              49795.784556      0.444540   \n",
       "min                  0.000000             -99999.000000      0.000000   \n",
       "25%                  0.000000             -99999.000000      0.000000   \n",
       "50%                  0.000000                  0.333000      0.000000   \n",
       "75%                  0.000000                  2.164250      1.000000   \n",
       "max                  1.000000             173800.000000      1.000000   \n",
       "\n",
       "            GL_Flag  Credit_Score  \n",
       "count  51336.000000  51336.000000  \n",
       "mean       0.052887    679.859222  \n",
       "std        0.223810     20.502764  \n",
       "min        0.000000    469.000000  \n",
       "25%        0.000000    669.000000  \n",
       "50%        0.000000    680.000000  \n",
       "75%        0.000000    691.000000  \n",
       "max        1.000000    811.000000  \n",
       "\n",
       "[8 rows x 56 columns]"
      ]
     },
     "execution_count": 6,
     "metadata": {},
     "output_type": "execute_result"
    }
   ],
   "source": [
    "df2.describe()"
   ]
  },
  {
   "cell_type": "markdown",
   "id": "bf014f35",
   "metadata": {},
   "source": [
    "As we can see \"-99999\" value is present in several columns and there are some columns in which this value is present more than 30%. If we drop those values from data then we will loss so many data. So we will directly drop those columns which has so many missing values."
   ]
  },
  {
   "cell_type": "code",
   "execution_count": 7,
   "id": "c738d534",
   "metadata": {},
   "outputs": [],
   "source": [
    "columns_to_be_removed = []\n",
    "\n",
    "for i in df2.columns:   \n",
    "    if df2.loc[df2[i] == -99999].shape[0] > 10000:\n",
    "        columns_to_be_removed .append(i)\n",
    "        \n",
    "df2 = df2.drop(columns_to_be_removed, axis =1)"
   ]
  },
  {
   "cell_type": "markdown",
   "id": "dbc7bc29",
   "metadata": {},
   "source": [
    "Now we will drop those rows which has the \"-99999\" values in it. "
   ]
  },
  {
   "cell_type": "code",
   "execution_count": 8,
   "id": "d71de964",
   "metadata": {},
   "outputs": [],
   "source": [
    "for i in df2.columns:\n",
    "    df2 = df2.loc[ df2[i] != -99999 ]"
   ]
  },
  {
   "cell_type": "markdown",
   "id": "51d99839",
   "metadata": {},
   "source": [
    "## Data Merging"
   ]
  },
  {
   "cell_type": "markdown",
   "id": "ebca03b2",
   "metadata": {},
   "source": [
    "We will check is there is any common column in both of the dataset, so that we can merge this two dataset."
   ]
  },
  {
   "cell_type": "code",
   "execution_count": 9,
   "id": "520443ab",
   "metadata": {},
   "outputs": [
    {
     "name": "stdout",
     "output_type": "stream",
     "text": [
      "PROSPECTID\n"
     ]
    }
   ],
   "source": [
    "for i in list(df1.columns):\n",
    "    if i in list(df2.columns):\n",
    "        print (i)"
   ]
  },
  {
   "cell_type": "markdown",
   "id": "8746cd00",
   "metadata": {},
   "source": [
    "By using this \"PROSPECTID\" column we will merge this two dataset."
   ]
  },
  {
   "cell_type": "code",
   "execution_count": 10,
   "id": "85d99ea7",
   "metadata": {},
   "outputs": [],
   "source": [
    "df = pd. merge ( df1, df2, how ='inner', left_on = ['PROSPECTID'], right_on = ['PROSPECTID'])  "
   ]
  },
  {
   "cell_type": "markdown",
   "id": "b15894b8",
   "metadata": {},
   "source": [
    "## Statistical Analysis"
   ]
  },
  {
   "cell_type": "markdown",
   "id": "1ac20016",
   "metadata": {},
   "source": [
    "### 1. Analysis on categorical columns"
   ]
  },
  {
   "cell_type": "markdown",
   "id": "b3b3c054",
   "metadata": {},
   "source": [
    "check how many columns are categorical"
   ]
  },
  {
   "cell_type": "code",
   "execution_count": 11,
   "id": "ed88e53c",
   "metadata": {},
   "outputs": [
    {
     "name": "stdout",
     "output_type": "stream",
     "text": [
      "MARITALSTATUS\n",
      "EDUCATION\n",
      "GENDER\n",
      "last_prod_enq2\n",
      "first_prod_enq2\n",
      "Approved_Flag\n"
     ]
    }
   ],
   "source": [
    "for i in df.columns:\n",
    "    if df[i].dtype == 'object':\n",
    "        print(i)"
   ]
  },
  {
   "cell_type": "code",
   "execution_count": 12,
   "id": "3ff7b900",
   "metadata": {},
   "outputs": [
    {
     "name": "stdout",
     "output_type": "stream",
     "text": [
      "MARITALSTATUS --- 3.578180861038862e-233\n",
      "EDUCATION --- 2.6942265249737532e-30\n",
      "GENDER --- 1.907936100186563e-05\n",
      "last_prod_enq2 --- 0.0\n",
      "first_prod_enq2 --- 7.84997610555419e-287\n"
     ]
    }
   ],
   "source": [
    "# Chi-square test\n",
    "for i in ['MARITALSTATUS', 'EDUCATION', 'GENDER', 'last_prod_enq2', 'first_prod_enq2']:\n",
    "    chi2, pval, _, _ = chi2_contingency(pd.crosstab(df[i], df['Approved_Flag']))\n",
    "    print(i, '---', pval)"
   ]
  },
  {
   "cell_type": "markdown",
   "id": "e0db73b9",
   "metadata": {},
   "source": [
    "### Interpretation"
   ]
  },
  {
   "cell_type": "markdown",
   "id": "1e8a9fe8",
   "metadata": {},
   "source": [
    "Null Hypothesis (H₀): The two variables are independent (not associated).\n",
    "\n",
    "Alternative Hypothesis (H₁): The two variables are dependent (associated)."
   ]
  },
  {
   "cell_type": "markdown",
   "id": "d8ec2152",
   "metadata": {},
   "source": [
    "Since the pvalue is less than 0.05 for all categorical variables, which indicates that there is association between these categotrical variables with \"Approved_Flag\"."
   ]
  },
  {
   "cell_type": "markdown",
   "id": "9c8281f7",
   "metadata": {},
   "source": [
    "### 2. Analysis on numerical analysis"
   ]
  },
  {
   "cell_type": "markdown",
   "id": "54b1ce7a",
   "metadata": {},
   "source": [
    "## i.VIF for numerical columns"
   ]
  },
  {
   "cell_type": "code",
   "execution_count": 13,
   "id": "c30e7a18",
   "metadata": {},
   "outputs": [],
   "source": [
    "# \n",
    "numeric_columns = []\n",
    "for i in df.columns:\n",
    "    if df[i].dtype != 'object' and i not in ['PROSPECTID','Approved_Flag']:\n",
    "        numeric_columns.append(i)"
   ]
  },
  {
   "cell_type": "code",
   "execution_count": 14,
   "id": "bad1f559",
   "metadata": {},
   "outputs": [],
   "source": [
    "# VIF sequentially check\n",
    "\n",
    "vif_data = df[numeric_columns]\n",
    "total_columns = vif_data.shape[1]\n",
    "columns_to_be_kept = []\n",
    "column_index = 0\n"
   ]
  },
  {
   "cell_type": "code",
   "execution_count": 15,
   "id": "765e531c",
   "metadata": {
    "scrolled": true
   },
   "outputs": [
    {
     "name": "stderr",
     "output_type": "stream",
     "text": [
      "C:\\Users\\sachi\\anaconda3\\Lib\\site-packages\\statsmodels\\stats\\outliers_influence.py:198: RuntimeWarning: divide by zero encountered in scalar divide\n",
      "  vif = 1. / (1. - r_squared_i)\n"
     ]
    },
    {
     "name": "stdout",
     "output_type": "stream",
     "text": [
      "0 --- inf\n"
     ]
    },
    {
     "name": "stderr",
     "output_type": "stream",
     "text": [
      "C:\\Users\\sachi\\anaconda3\\Lib\\site-packages\\statsmodels\\stats\\outliers_influence.py:198: RuntimeWarning: divide by zero encountered in scalar divide\n",
      "  vif = 1. / (1. - r_squared_i)\n"
     ]
    },
    {
     "name": "stdout",
     "output_type": "stream",
     "text": [
      "0 --- inf\n",
      "0 --- 11.320180023967996\n",
      "0 --- 8.363698035000336\n",
      "0 --- 6.520647877790928\n",
      "0 --- 5.149501618212625\n",
      "1 --- 2.611111040579735\n"
     ]
    },
    {
     "name": "stderr",
     "output_type": "stream",
     "text": [
      "C:\\Users\\sachi\\anaconda3\\Lib\\site-packages\\statsmodels\\stats\\outliers_influence.py:198: RuntimeWarning: divide by zero encountered in scalar divide\n",
      "  vif = 1. / (1. - r_squared_i)\n"
     ]
    },
    {
     "name": "stdout",
     "output_type": "stream",
     "text": [
      "2 --- inf\n",
      "2 --- 1788.7926256209232\n",
      "2 --- 8.601028256477228\n",
      "2 --- 3.8328007921530785\n",
      "3 --- 6.099653381646727\n",
      "3 --- 5.5813520096427585\n",
      "4 --- 1.985584353098778\n"
     ]
    },
    {
     "name": "stderr",
     "output_type": "stream",
     "text": [
      "C:\\Users\\sachi\\anaconda3\\Lib\\site-packages\\statsmodels\\stats\\outliers_influence.py:198: RuntimeWarning: divide by zero encountered in scalar divide\n",
      "  vif = 1. / (1. - r_squared_i)\n"
     ]
    },
    {
     "name": "stdout",
     "output_type": "stream",
     "text": [
      "5 --- inf\n",
      "5 --- 4.809538302819343\n",
      "6 --- 23.270628983464636\n",
      "6 --- 30.595522588100053\n",
      "6 --- 4.384346405965583\n",
      "7 --- 3.064658415523423\n",
      "8 --- 2.898639771299253\n",
      "9 --- 4.377876915347324\n",
      "10 --- 2.2078535836958433\n",
      "11 --- 4.916914200506864\n",
      "12 --- 5.214702030064725\n",
      "13 --- 3.3861625024231476\n",
      "14 --- 7.840583309478997\n",
      "14 --- 5.255034641721438\n"
     ]
    },
    {
     "name": "stderr",
     "output_type": "stream",
     "text": [
      "C:\\Users\\sachi\\anaconda3\\Lib\\site-packages\\statsmodels\\stats\\outliers_influence.py:198: RuntimeWarning: divide by zero encountered in scalar divide\n",
      "  vif = 1. / (1. - r_squared_i)\n"
     ]
    },
    {
     "name": "stdout",
     "output_type": "stream",
     "text": [
      "15 --- inf\n",
      "15 --- 7.380634506427232\n",
      "15 --- 1.4210050015175733\n",
      "16 --- 8.083255010190323\n",
      "16 --- 1.624122752404011\n",
      "17 --- 7.257811920140003\n",
      "17 --- 15.59624383268298\n",
      "17 --- 1.825857047132431\n",
      "18 --- 1.5080839450032664\n",
      "19 --- 2.172088834824577\n",
      "20 --- 2.623397553527229\n",
      "21 --- 2.2959970812106167\n",
      "22 --- 7.360578319196439\n",
      "22 --- 2.160238777310255\n",
      "23 --- 2.8686288267891467\n",
      "24 --- 6.458218003637277\n",
      "24 --- 2.8474118865638265\n",
      "25 --- 4.753198156284083\n",
      "26 --- 16.22735475594825\n",
      "26 --- 6.424377256363877\n",
      "26 --- 8.887080381808687\n",
      "26 --- 2.3804746142952653\n",
      "27 --- 8.609513476514548\n",
      "27 --- 13.06755093547673\n",
      "27 --- 3.5000400566546555\n",
      "28 --- 1.9087955874813773\n",
      "29 --- 17.006562234161628\n",
      "29 --- 10.730485153719197\n",
      "29 --- 2.3538497522950275\n",
      "30 --- 22.104855915136433\n",
      "30 --- 2.7971639638512906\n",
      "31 --- 3.424171203217696\n",
      "32 --- 10.175021454450922\n",
      "32 --- 6.408710354561301\n",
      "32 --- 1.001151196262562\n",
      "33 --- 3.069197305397274\n",
      "34 --- 2.8091261600643724\n",
      "35 --- 20.249538381980678\n",
      "35 --- 15.864576541593774\n",
      "35 --- 1.8331649740532172\n",
      "36 --- 1.5680839909542044\n",
      "37 --- 1.9307572353811677\n",
      "38 --- 4.331265056645247\n",
      "39 --- 9.390334396150173\n"
     ]
    }
   ],
   "source": [
    "for i in range (0,total_columns):\n",
    "    \n",
    "    vif_value = variance_inflation_factor(vif_data, column_index)\n",
    "    print (column_index,'---',vif_value)\n",
    "    \n",
    "    \n",
    "    if vif_value <= 6:\n",
    "        columns_to_be_kept.append(numeric_columns[i])\n",
    "        column_index = column_index+1\n",
    "    \n",
    "    else:\n",
    "        vif_data = vif_data.drop([numeric_columns[i]],axis=1)\n",
    "\n",
    "\n"
   ]
  },
  {
   "cell_type": "code",
   "execution_count": 16,
   "id": "e7e8e60b",
   "metadata": {},
   "outputs": [
    {
     "name": "stdout",
     "output_type": "stream",
     "text": [
      "Index(['pct_tl_open_L6M', 'pct_tl_closed_L6M', 'Tot_TL_closed_L12M',\n",
      "       'pct_tl_closed_L12M', 'Tot_Missed_Pmnt', 'CC_TL', 'Home_TL', 'PL_TL',\n",
      "       'Secured_TL', 'Unsecured_TL', 'Other_TL', 'Age_Oldest_TL',\n",
      "       'Age_Newest_TL', 'time_since_recent_payment',\n",
      "       'max_recent_level_of_deliq', 'num_deliq_6_12mts', 'num_times_60p_dpd',\n",
      "       'num_std_12mts', 'num_sub', 'num_sub_6mts', 'num_sub_12mts', 'num_dbt',\n",
      "       'num_dbt_12mts', 'num_lss', 'num_lss_12mts', 'recent_level_of_deliq',\n",
      "       'CC_enq_L12m', 'PL_enq_L12m', 'time_since_recent_enq', 'enq_L3m',\n",
      "       'NETMONTHLYINCOME', 'Time_With_Curr_Empr', 'pct_currentBal_all_TL',\n",
      "       'CC_Flag', 'PL_Flag', 'pct_PL_enq_L6m_of_ever',\n",
      "       'pct_CC_enq_L6m_of_ever', 'HL_Flag', 'GL_Flag'],\n",
      "      dtype='object')\n"
     ]
    }
   ],
   "source": [
    "print(vif_data.columns)"
   ]
  },
  {
   "cell_type": "markdown",
   "id": "5851e3a5",
   "metadata": {},
   "source": [
    "These are the columns which are lowest VIF Score with each other, so we can keep these column for model building."
   ]
  },
  {
   "cell_type": "markdown",
   "id": "f3232e14",
   "metadata": {},
   "source": [
    "## ii. Anova for columns_to_be_kept"
   ]
  },
  {
   "cell_type": "code",
   "execution_count": 17,
   "id": "897c314d",
   "metadata": {},
   "outputs": [],
   "source": [
    "from scipy.stats import f_oneway\n",
    "\n",
    "columns_to_be_kept_numerical = []\n",
    "\n",
    "for i in columns_to_be_kept:\n",
    "    a = list(df[i])  \n",
    "    b = list(df['Approved_Flag'])  \n",
    "    \n",
    "    group_P1 = [value for value, group in zip(a, b) if group == 'P1']\n",
    "    group_P2 = [value for value, group in zip(a, b) if group == 'P2']\n",
    "    group_P3 = [value for value, group in zip(a, b) if group == 'P3']\n",
    "    group_P4 = [value for value, group in zip(a, b) if group == 'P4']\n",
    "\n",
    "\n",
    "    f_statistic, p_value = f_oneway(group_P1, group_P2, group_P3, group_P4)\n",
    "\n",
    "    if p_value <= 0.05:\n",
    "        columns_to_be_kept_numerical.append(i)\n"
   ]
  },
  {
   "cell_type": "code",
   "execution_count": 18,
   "id": "7ce5f65b",
   "metadata": {},
   "outputs": [
    {
     "name": "stdout",
     "output_type": "stream",
     "text": [
      "['pct_tl_open_L6M', 'pct_tl_closed_L6M', 'Tot_TL_closed_L12M', 'pct_tl_closed_L12M', 'Tot_Missed_Pmnt', 'CC_TL', 'Home_TL', 'PL_TL', 'Secured_TL', 'Unsecured_TL', 'Other_TL', 'Age_Oldest_TL', 'Age_Newest_TL', 'time_since_recent_payment', 'max_recent_level_of_deliq', 'num_deliq_6_12mts', 'num_times_60p_dpd', 'num_std_12mts', 'num_sub', 'num_sub_6mts', 'num_sub_12mts', 'num_dbt', 'num_dbt_12mts', 'num_lss', 'recent_level_of_deliq', 'CC_enq_L12m', 'PL_enq_L12m', 'time_since_recent_enq', 'enq_L3m', 'NETMONTHLYINCOME', 'Time_With_Curr_Empr', 'CC_Flag', 'PL_Flag', 'pct_PL_enq_L6m_of_ever', 'pct_CC_enq_L6m_of_ever', 'HL_Flag', 'GL_Flag']\n"
     ]
    }
   ],
   "source": [
    "print(columns_to_be_kept_numerical)"
   ]
  },
  {
   "cell_type": "markdown",
   "id": "537fe205",
   "metadata": {},
   "source": [
    "These are the numerical columns that we will kept for our further analysis."
   ]
  },
  {
   "cell_type": "code",
   "execution_count": 19,
   "id": "3481b2d7",
   "metadata": {},
   "outputs": [],
   "source": [
    "# listing all the final features\n",
    "features = columns_to_be_kept_numerical + ['MARITALSTATUS', 'EDUCATION', 'GENDER', 'last_prod_enq2', 'first_prod_enq2']\n",
    "df = df[features + ['Approved_Flag']]"
   ]
  },
  {
   "cell_type": "markdown",
   "id": "ab4bcb3e",
   "metadata": {},
   "source": [
    "Till now, the feature selection is done for categorical and numerical features."
   ]
  },
  {
   "cell_type": "markdown",
   "id": "84b73f23",
   "metadata": {},
   "source": [
    "Now we will do the encoding of categorical features."
   ]
  },
  {
   "cell_type": "markdown",
   "id": "598b717a",
   "metadata": {},
   "source": [
    "##  Encoding of categorical features"
   ]
  },
  {
   "cell_type": "code",
   "execution_count": 20,
   "id": "a363e765",
   "metadata": {},
   "outputs": [
    {
     "name": "stdout",
     "output_type": "stream",
     "text": [
      "['Married' 'Single']\n",
      "['12TH' 'GRADUATE' 'SSC' 'POST-GRADUATE' 'UNDER GRADUATE' 'OTHERS'\n",
      " 'PROFESSIONAL']\n",
      "['M' 'F']\n",
      "['PL' 'ConsumerLoan' 'AL' 'CC' 'others' 'HL']\n",
      "['PL' 'ConsumerLoan' 'others' 'AL' 'HL' 'CC']\n"
     ]
    }
   ],
   "source": [
    "print(df['MARITALSTATUS'].unique())\n",
    "print(df['EDUCATION'].unique())\n",
    "print(df['GENDER'].unique())\n",
    "print(df['last_prod_enq2'].unique())\n",
    "print(df['first_prod_enq2'].unique())"
   ]
  },
  {
   "cell_type": "markdown",
   "id": "f2aed8df",
   "metadata": {},
   "source": [
    "As we can see the 'EDUCATION' variable is ordinal variable and other variables are nominal and binary variables."
   ]
  },
  {
   "cell_type": "markdown",
   "id": "85b6912c",
   "metadata": {},
   "source": [
    "we have to handle these variables differently."
   ]
  },
  {
   "cell_type": "code",
   "execution_count": 21,
   "id": "50814243",
   "metadata": {},
   "outputs": [],
   "source": [
    "df.loc[df['EDUCATION'] == 'SSC',['EDUCATION']]              = 1\n",
    "df.loc[df['EDUCATION'] == '12TH',['EDUCATION']]             = 2\n",
    "df.loc[df['EDUCATION'] == 'GRADUATE',['EDUCATION']]         = 3\n",
    "df.loc[df['EDUCATION'] == 'UNDER GRADUATE',['EDUCATION']]   = 3\n",
    "df.loc[df['EDUCATION'] == 'POST-GRADUATE',['EDUCATION']]    = 4\n",
    "df.loc[df['EDUCATION'] == 'OTHERS',['EDUCATION']]           = 1\n",
    "df.loc[df['EDUCATION'] == 'PROFESSIONAL',['EDUCATION']]     = 3"
   ]
  },
  {
   "cell_type": "code",
   "execution_count": 22,
   "id": "bfd636f3",
   "metadata": {},
   "outputs": [],
   "source": [
    "df_encoded = pd.get_dummies(df, columns=['MARITALSTATUS','GENDER', 'last_prod_enq2' ,'first_prod_enq2'])"
   ]
  },
  {
   "cell_type": "code",
   "execution_count": 23,
   "id": "64195de6",
   "metadata": {},
   "outputs": [
    {
     "name": "stdout",
     "output_type": "stream",
     "text": [
      "<class 'pandas.core.frame.DataFrame'>\n",
      "RangeIndex: 42064 entries, 0 to 42063\n",
      "Data columns (total 55 columns):\n",
      " #   Column                        Non-Null Count  Dtype  \n",
      "---  ------                        --------------  -----  \n",
      " 0   pct_tl_open_L6M               42064 non-null  float64\n",
      " 1   pct_tl_closed_L6M             42064 non-null  float64\n",
      " 2   Tot_TL_closed_L12M            42064 non-null  int64  \n",
      " 3   pct_tl_closed_L12M            42064 non-null  float64\n",
      " 4   Tot_Missed_Pmnt               42064 non-null  int64  \n",
      " 5   CC_TL                         42064 non-null  int64  \n",
      " 6   Home_TL                       42064 non-null  int64  \n",
      " 7   PL_TL                         42064 non-null  int64  \n",
      " 8   Secured_TL                    42064 non-null  int64  \n",
      " 9   Unsecured_TL                  42064 non-null  int64  \n",
      " 10  Other_TL                      42064 non-null  int64  \n",
      " 11  Age_Oldest_TL                 42064 non-null  int64  \n",
      " 12  Age_Newest_TL                 42064 non-null  int64  \n",
      " 13  time_since_recent_payment     42064 non-null  int64  \n",
      " 14  max_recent_level_of_deliq     42064 non-null  int64  \n",
      " 15  num_deliq_6_12mts             42064 non-null  int64  \n",
      " 16  num_times_60p_dpd             42064 non-null  int64  \n",
      " 17  num_std_12mts                 42064 non-null  int64  \n",
      " 18  num_sub                       42064 non-null  int64  \n",
      " 19  num_sub_6mts                  42064 non-null  int64  \n",
      " 20  num_sub_12mts                 42064 non-null  int64  \n",
      " 21  num_dbt                       42064 non-null  int64  \n",
      " 22  num_dbt_12mts                 42064 non-null  int64  \n",
      " 23  num_lss                       42064 non-null  int64  \n",
      " 24  recent_level_of_deliq         42064 non-null  int64  \n",
      " 25  CC_enq_L12m                   42064 non-null  int64  \n",
      " 26  PL_enq_L12m                   42064 non-null  int64  \n",
      " 27  time_since_recent_enq         42064 non-null  int64  \n",
      " 28  enq_L3m                       42064 non-null  int64  \n",
      " 29  NETMONTHLYINCOME              42064 non-null  int64  \n",
      " 30  Time_With_Curr_Empr           42064 non-null  int64  \n",
      " 31  CC_Flag                       42064 non-null  int64  \n",
      " 32  PL_Flag                       42064 non-null  int64  \n",
      " 33  pct_PL_enq_L6m_of_ever        42064 non-null  float64\n",
      " 34  pct_CC_enq_L6m_of_ever        42064 non-null  float64\n",
      " 35  HL_Flag                       42064 non-null  int64  \n",
      " 36  GL_Flag                       42064 non-null  int64  \n",
      " 37  EDUCATION                     42064 non-null  object \n",
      " 38  Approved_Flag                 42064 non-null  object \n",
      " 39  MARITALSTATUS_Married         42064 non-null  bool   \n",
      " 40  MARITALSTATUS_Single          42064 non-null  bool   \n",
      " 41  GENDER_F                      42064 non-null  bool   \n",
      " 42  GENDER_M                      42064 non-null  bool   \n",
      " 43  last_prod_enq2_AL             42064 non-null  bool   \n",
      " 44  last_prod_enq2_CC             42064 non-null  bool   \n",
      " 45  last_prod_enq2_ConsumerLoan   42064 non-null  bool   \n",
      " 46  last_prod_enq2_HL             42064 non-null  bool   \n",
      " 47  last_prod_enq2_PL             42064 non-null  bool   \n",
      " 48  last_prod_enq2_others         42064 non-null  bool   \n",
      " 49  first_prod_enq2_AL            42064 non-null  bool   \n",
      " 50  first_prod_enq2_CC            42064 non-null  bool   \n",
      " 51  first_prod_enq2_ConsumerLoan  42064 non-null  bool   \n",
      " 52  first_prod_enq2_HL            42064 non-null  bool   \n",
      " 53  first_prod_enq2_PL            42064 non-null  bool   \n",
      " 54  first_prod_enq2_others        42064 non-null  bool   \n",
      "dtypes: bool(16), float64(5), int64(32), object(2)\n",
      "memory usage: 13.2+ MB\n"
     ]
    }
   ],
   "source": [
    "df_encoded.info()\n",
    "k = df_encoded.describe()"
   ]
  },
  {
   "cell_type": "markdown",
   "id": "f569377a",
   "metadata": {},
   "source": [
    "Upto this step we have build the data for fitting a machine learning algorithm, Now we will use different machine learning algorithms and will do the prediction"
   ]
  },
  {
   "cell_type": "markdown",
   "id": "3ce5ccd3",
   "metadata": {},
   "source": [
    "## Machine Learning Algorithms"
   ]
  },
  {
   "cell_type": "markdown",
   "id": "3d369b96",
   "metadata": {},
   "source": [
    "### 1. Random Forest"
   ]
  },
  {
   "cell_type": "code",
   "execution_count": 24,
   "id": "aa8d4aea",
   "metadata": {},
   "outputs": [],
   "source": [
    "x = df_encoded. drop(['Approved_Flag'], axis = 1)\n",
    "y = df_encoded['Approved_Flag']"
   ]
  },
  {
   "cell_type": "code",
   "execution_count": 38,
   "id": "588a86b2",
   "metadata": {},
   "outputs": [],
   "source": [
    "from sklearn.model_selection import GridSearchCV"
   ]
  },
  {
   "cell_type": "code",
   "execution_count": 42,
   "id": "16f3399a",
   "metadata": {},
   "outputs": [
    {
     "name": "stdout",
     "output_type": "stream",
     "text": [
      "Fitting 5 folds for each of 36 candidates, totalling 180 fits\n"
     ]
    }
   ],
   "source": [
    "label_encoder = LabelEncoder()\n",
    "y_encoded = label_encoder.fit_transform(y)\n",
    "\n",
    "x_train, x_test, y_train, y_test = train_test_split(x, y_encoded, test_size=0.2, random_state=42)\n",
    "\n",
    "param_grid = {\n",
    "    'n_estimators': [100, 200],          # Number of trees\n",
    "    'max_depth': [10, 20, 30],          # Tree depth\n",
    "    'min_samples_split': [2, 5, 10],    # Minimum samples to split\n",
    "    'max_features': ['sqrt', 'log2'],   # Number of features to consider\n",
    "}\n",
    "\n",
    "# Initialize the Random Forest Classifier\n",
    "rf_classifier = RandomForestClassifier(random_state=42)\n",
    "\n",
    "# Set up GridSearchCV\n",
    "grid_search = GridSearchCV(estimator=rf_classifier, param_grid=param_grid, \n",
    "                           cv=5, n_jobs=-1, verbose=2, scoring='accuracy')\n",
    "\n",
    "# Fit the model with hyperparameter tuning\n",
    "grid_search.fit(x_train, y_train)\n",
    "\n",
    "# Get the best parameters and best score\n",
    "best_params = grid_search.best_params_\n",
    "best_score = grid_search.best_score_\n",
    "\n",
    "# Train the best model\n",
    "best_model = grid_search.best_estimator_\n",
    "\n",
    "# Make predictions\n",
    "y_pred = best_model.predict(x_test)\n",
    "\n",
    "# Calculate performance metrics\n",
    "accuracy = accuracy_score(y_test, y_pred)\n",
    "precision, recall, f1_score, _ = precision_recall_fscore_support(y_test, y_pred, average='weighted')"
   ]
  },
  {
   "cell_type": "code",
   "execution_count": 45,
   "id": "3f4cc8c4",
   "metadata": {},
   "outputs": [
    {
     "name": "stdout",
     "output_type": "stream",
     "text": [
      "\n",
      "Best Hyperparameters: {'max_depth': 30, 'max_features': 'sqrt', 'min_samples_split': 10, 'n_estimators': 200}\n",
      "Best Cross-Validation Accuracy: 0.77\n",
      "Test Accuracy: 0.77\n",
      "Precision: 0.74\n",
      "Recall: 0.77\n",
      "F1 Score: 0.74\n"
     ]
    }
   ],
   "source": [
    "# Print results\n",
    "print(\"\\nBest Hyperparameters:\", best_params)\n",
    "print(f'Best Cross-Validation Accuracy: {best_score:.2f}')\n",
    "print(f'Test Accuracy: {accuracy:.2f}')\n",
    "print(f'Precision: {precision:.2f}')\n",
    "print(f'Recall: {recall:.2f}')\n",
    "print(f'F1 Score: {f1_score:.2f}')"
   ]
  },
  {
   "cell_type": "code",
   "execution_count": 47,
   "id": "f838b5d0",
   "metadata": {},
   "outputs": [
    {
     "name": "stdout",
     "output_type": "stream",
     "text": [
      "              precision    recall  f1-score   support\n",
      "\n",
      "          P1       0.85      0.70      0.77      1014\n",
      "          P2       0.80      0.93      0.86      5045\n",
      "          P3       0.45      0.21      0.29      1325\n",
      "          P4       0.73      0.72      0.72      1029\n",
      "\n",
      "    accuracy                           0.77      8413\n",
      "   macro avg       0.71      0.64      0.66      8413\n",
      "weighted avg       0.74      0.77      0.74      8413\n",
      "\n"
     ]
    }
   ],
   "source": [
    "from sklearn.metrics import classification_report\n",
    "\n",
    "# Print a full classification report\n",
    "print(classification_report(y_test, y_pred, target_names=label_encoder.classes_))"
   ]
  },
  {
   "cell_type": "markdown",
   "id": "88c7b96a",
   "metadata": {},
   "source": [
    "## 2. xgboost"
   ]
  },
  {
   "cell_type": "code",
   "execution_count": 28,
   "id": "c2e1a196",
   "metadata": {},
   "outputs": [],
   "source": [
    "xgb_classifier = xgb.XGBClassifier(objective='multi:softmax',  num_class=4)"
   ]
  },
  {
   "cell_type": "code",
   "execution_count": 29,
   "id": "35ec720f",
   "metadata": {},
   "outputs": [],
   "source": [
    "x = df_encoded. drop(['Approved_Flag'],axis = 1)\n",
    "y = df_encoded['Approved_Flag']"
   ]
  },
  {
   "cell_type": "code",
   "execution_count": 30,
   "id": "733b2389",
   "metadata": {},
   "outputs": [],
   "source": [
    "x['EDUCATION'] = x['EDUCATION'].astype('int')"
   ]
  },
  {
   "cell_type": "code",
   "execution_count": 31,
   "id": "87ac0d90",
   "metadata": {},
   "outputs": [],
   "source": [
    "label_encoder = LabelEncoder()\n",
    "y_encoded = label_encoder.fit_transform(y)\n",
    "\n",
    "x_train, x_test, y_train, y_test = train_test_split(x, y_encoded, test_size=0.2, random_state=42)\n",
    "\n",
    "xgb_classifier.fit(x_train, y_train)\n",
    "y_pred = xgb_classifier.predict(x_test)\n",
    "\n"
   ]
  },
  {
   "cell_type": "code",
   "execution_count": 32,
   "id": "fc8ad178",
   "metadata": {},
   "outputs": [
    {
     "name": "stdout",
     "output_type": "stream",
     "text": [
      "\n",
      "Accuracy: 0.78\n",
      "\n"
     ]
    }
   ],
   "source": [
    "accuracy = accuracy_score(y_test, y_pred)\n",
    "print ()\n",
    "print(f'Accuracy: {accuracy:.2f}')\n",
    "print ()\n",
    "\n",
    "precision, recall, f1_score, _ = precision_recall_fscore_support(y_test, y_pred)\n"
   ]
  },
  {
   "cell_type": "code",
   "execution_count": 33,
   "id": "0a2f6e70",
   "metadata": {},
   "outputs": [
    {
     "name": "stdout",
     "output_type": "stream",
     "text": [
      "Class p1:\n",
      "Precision: 0.823906083244397\n",
      "Recall: 0.7613412228796844\n",
      "F1 Score: 0.7913890312660173\n",
      "\n",
      "Class p2:\n",
      "Precision: 0.8255418233924413\n",
      "Recall: 0.913577799801784\n",
      "F1 Score: 0.8673315769665036\n",
      "\n",
      "Class p3:\n",
      "Precision: 0.4756380510440835\n",
      "Recall: 0.30943396226415093\n",
      "F1 Score: 0.3749428440786465\n",
      "\n",
      "Class p4:\n",
      "Precision: 0.7342386032977691\n",
      "Recall: 0.7356656948493683\n",
      "F1 Score: 0.7349514563106796\n",
      "\n"
     ]
    }
   ],
   "source": [
    "for i, v in enumerate(['p1', 'p2', 'p3', 'p4']):\n",
    "    print(f\"Class {v}:\")\n",
    "    print(f\"Precision: {precision[i]}\")\n",
    "    print(f\"Recall: {recall[i]}\")\n",
    "    print(f\"F1 Score: {f1_score[i]}\")\n",
    "    print()"
   ]
  },
  {
   "cell_type": "code",
   "execution_count": 50,
   "id": "606189ad",
   "metadata": {},
   "outputs": [
    {
     "name": "stdout",
     "output_type": "stream",
     "text": [
      "Best Hyperparameters: {'colsample_bytree': 0.8, 'learning_rate': 0.2, 'max_depth': 3, 'n_estimators': 200, 'subsample': 0.8}\n",
      "\n",
      "Accuracy with Best Hyperparameters: 0.78\n",
      "\n",
      "Class P1:\n",
      "Precision: 0.84\n",
      "Recall: 0.76\n",
      "F1 Score: 0.80\n",
      "\n",
      "Class P2:\n",
      "Precision: 0.82\n",
      "Recall: 0.93\n",
      "F1 Score: 0.87\n",
      "\n",
      "Class P3:\n",
      "Precision: 0.47\n",
      "Recall: 0.26\n",
      "F1 Score: 0.34\n",
      "\n",
      "Class P4:\n",
      "Precision: 0.74\n",
      "Recall: 0.74\n",
      "F1 Score: 0.74\n",
      "\n"
     ]
    }
   ],
   "source": [
    "import xgboost as xgb\n",
    "from sklearn.model_selection import train_test_split, GridSearchCV\n",
    "from sklearn.preprocessing import LabelEncoder\n",
    "from sklearn.metrics import accuracy_score, precision_recall_fscore_support\n",
    "\n",
    "# Splitting features and target\n",
    "x = df_encoded.drop(['Approved_Flag'], axis=1)\n",
    "y = df_encoded['Approved_Flag']\n",
    "\n",
    "# Handling data type for EDUCATION column if needed\n",
    "x['EDUCATION'] = x['EDUCATION'].astype('int')\n",
    "\n",
    "# Encoding categorical target variable\n",
    "label_encoder = LabelEncoder()\n",
    "y_encoded = label_encoder.fit_transform(y)\n",
    "\n",
    "# Splitting the data into training and test sets\n",
    "x_train, x_test, y_train, y_test = train_test_split(x, y_encoded, test_size=0.2, random_state=42)\n",
    "\n",
    "\n",
    "\n",
    "# Defining the hyperparameter grid\n",
    "param_grid = {\n",
    "    'n_estimators': [100, 200, 300],\n",
    "    'max_depth': [3, 5, 7],\n",
    "    'learning_rate': [0.01, 0.1, 0.2],\n",
    "    'subsample': [0.8, 1],\n",
    "    'colsample_bytree': [0.8, 1]\n",
    "}\n",
    "\n",
    "# Initializing the XGBoost classifier\n",
    "xgb_classifier = xgb.XGBClassifier(objective='multi:softmax', num_class=4)\n",
    "\n",
    "# Using GridSearchCV for hyperparameter tuning\n",
    "grid_search = GridSearchCV(\n",
    "    estimator=xgb_classifier,\n",
    "    param_grid=param_grid,\n",
    "    scoring='accuracy',\n",
    "    cv=5,\n",
    "    n_jobs=-1\n",
    ")\n",
    "\n",
    "# Fitting the grid search to the training data\n",
    "grid_search.fit(x_train, y_train)\n",
    "\n",
    "# Getting the best hyperparameters\n",
    "best_params = grid_search.best_params_\n",
    "print(\"Best Hyperparameters:\", best_params)\n",
    "\n",
    "# Training the final model with the best hyperparameters\n",
    "best_xgb_classifier = xgb.XGBClassifier(**best_params, objective='multi:softmax', num_class=4)\n",
    "best_xgb_classifier.fit(x_train, y_train)\n",
    "\n",
    "# Making predictions on the test set\n",
    "y_pred = best_xgb_classifier.predict(x_test)\n",
    "\n",
    "# Evaluating the final model\n",
    "accuracy = accuracy_score(y_test, y_pred)\n",
    "print(f'\\nAccuracy with Best Hyperparameters: {accuracy:.2f}\\n')\n",
    "\n",
    "# Calculating precision, recall, and F1-score for each class\n",
    "precision, recall, f1_score, _ = precision_recall_fscore_support(y_test, y_pred, average=None)\n",
    "\n",
    "# Printing metrics for each class\n",
    "class_labels = label_encoder.classes_\n",
    "for label, p, r, f1 in zip(class_labels, precision, recall, f1_score):\n",
    "    print(f\"Class {label}:\")\n",
    "    print(f\"Precision: {p:.2f}\")\n",
    "    print(f\"Recall: {r:.2f}\")\n",
    "    print(f\"F1 Score: {f1:.2f}\")\n",
    "    print()\n"
   ]
  },
  {
   "cell_type": "markdown",
   "id": "f67a8b7c",
   "metadata": {},
   "source": [
    "## 3. Decision Tree"
   ]
  },
  {
   "cell_type": "code",
   "execution_count": 34,
   "id": "76b02330",
   "metadata": {},
   "outputs": [],
   "source": [
    "x = df_encoded. drop (['Approved_Flag'], axis = 1)\n",
    "y = df_encoded['Approved_Flag']"
   ]
  },
  {
   "cell_type": "code",
   "execution_count": 35,
   "id": "5da9849f",
   "metadata": {},
   "outputs": [],
   "source": [
    "x_train, x_test, y_train, y_test = train_test_split(x, y, test_size=0.2, random_state=42)\n",
    "\n",
    "dt_model = DecisionTreeClassifier(max_depth=20, min_samples_split=10)\n",
    "dt_model.fit(x_train, y_train)\n",
    "y_pred = dt_model.predict(x_test)"
   ]
  },
  {
   "cell_type": "code",
   "execution_count": 36,
   "id": "378a3cf7",
   "metadata": {},
   "outputs": [
    {
     "name": "stdout",
     "output_type": "stream",
     "text": [
      "\n",
      "Accuracy: 0.71\n",
      "\n"
     ]
    }
   ],
   "source": [
    "accuracy = accuracy_score(y_test, y_pred)\n",
    "print ()\n",
    "print(f\"Accuracy: {accuracy:.2f}\")\n",
    "print ()\n",
    "\n",
    "precision, recall, f1_score, _ = precision_recall_fscore_support(y_test, y_pred)"
   ]
  },
  {
   "cell_type": "code",
   "execution_count": 37,
   "id": "ccf447ab",
   "metadata": {},
   "outputs": [
    {
     "name": "stdout",
     "output_type": "stream",
     "text": [
      "Class p1:\n",
      "Precision: 0.7222767419038273\n",
      "Recall: 0.7258382642998028\n",
      "F1 Score: 0.7240531234628628\n",
      "\n",
      "Class p2:\n",
      "Precision: 0.8093847352024922\n",
      "Recall: 0.82398414271556\n",
      "F1 Score: 0.8166191926136921\n",
      "\n",
      "Class p3:\n",
      "Precision: 0.3430599369085173\n",
      "Recall: 0.3283018867924528\n",
      "F1 Score: 0.3355187042036251\n",
      "\n",
      "Class p4:\n",
      "Precision: 0.6474747474747474\n",
      "Recall: 0.6229348882410107\n",
      "F1 Score: 0.6349678058444775\n",
      "\n"
     ]
    }
   ],
   "source": [
    "for i, v in enumerate(['p1', 'p2', 'p3', 'p4']):\n",
    "    print(f\"Class {v}:\")\n",
    "    print(f\"Precision: {precision[i]}\")\n",
    "    print(f\"Recall: {recall[i]}\")\n",
    "    print(f\"F1 Score: {f1_score[i]}\")\n",
    "    print()"
   ]
  },
  {
   "cell_type": "code",
   "execution_count": null,
   "id": "41202397",
   "metadata": {},
   "outputs": [],
   "source": []
  }
 ],
 "metadata": {
  "kernelspec": {
   "display_name": "Python 3 (ipykernel)",
   "language": "python",
   "name": "python3"
  },
  "language_info": {
   "codemirror_mode": {
    "name": "ipython",
    "version": 3
   },
   "file_extension": ".py",
   "mimetype": "text/x-python",
   "name": "python",
   "nbconvert_exporter": "python",
   "pygments_lexer": "ipython3",
   "version": "3.11.5"
  }
 },
 "nbformat": 4,
 "nbformat_minor": 5
}
